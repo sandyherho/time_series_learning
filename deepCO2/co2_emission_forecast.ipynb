{
 "cells": [
  {
   "cell_type": "markdown",
   "id": "de2caac0",
   "metadata": {},
   "source": [
    "# 1. Data Preprocessing"
   ]
  },
  {
   "cell_type": "markdown",
   "id": "352b639d",
   "metadata": {},
   "source": [
    "## 1.1.  Reading the data from World Bank's API"
   ]
  },
  {
   "cell_type": "code",
   "execution_count": 1,
   "id": "690a17de",
   "metadata": {},
   "outputs": [
    {
     "name": "stdout",
     "output_type": "stream",
     "text": [
      "Collecting pandas_datareader\n",
      "  Downloading pandas_datareader-0.10.0-py3-none-any.whl (109 kB)\n",
      "\u001b[2K     \u001b[90m━━━━━━━━━━━━━━━━━━━━━━━━━━━━━━━━━━━━━\u001b[0m \u001b[32m109.5/109.5 kB\u001b[0m \u001b[31m769.6 kB/s\u001b[0m eta \u001b[36m0:00:00\u001b[0ma \u001b[36m0:00:01\u001b[0m\n",
      "\u001b[?25hCollecting lxml\n",
      "  Downloading lxml-4.9.2-cp311-cp311-manylinux_2_17_x86_64.manylinux2014_x86_64.manylinux_2_24_x86_64.whl (7.2 MB)\n",
      "\u001b[2K     \u001b[90m━━━━━━━━━━━━━━━━━━━━━━━━━━━━━━━━━━━━━━━━\u001b[0m \u001b[32m7.2/7.2 MB\u001b[0m \u001b[31m1.0 MB/s\u001b[0m eta \u001b[36m0:00:00\u001b[0m00:01\u001b[0m00:01\u001b[0m\n",
      "\u001b[?25hRequirement already satisfied: pandas>=0.23 in /home/ronggolawe/anaconda3/envs/new/lib/python3.11/site-packages (from pandas_datareader) (2.0.0)\n",
      "Collecting requests>=2.19.0\n",
      "  Downloading requests-2.31.0-py3-none-any.whl (62 kB)\n",
      "\u001b[2K     \u001b[90m━━━━━━━━━━━━━━━━━━━━━━━━━━━━━━━━━━━━━━━\u001b[0m \u001b[32m62.6/62.6 kB\u001b[0m \u001b[31m730.1 kB/s\u001b[0m eta \u001b[36m0:00:00\u001b[0ma \u001b[36m0:00:01\u001b[0m\n",
      "\u001b[?25hRequirement already satisfied: python-dateutil>=2.8.2 in /home/ronggolawe/anaconda3/envs/new/lib/python3.11/site-packages (from pandas>=0.23->pandas_datareader) (2.8.2)\n",
      "Requirement already satisfied: pytz>=2020.1 in /home/ronggolawe/anaconda3/envs/new/lib/python3.11/site-packages (from pandas>=0.23->pandas_datareader) (2023.3)\n",
      "Requirement already satisfied: tzdata>=2022.1 in /home/ronggolawe/anaconda3/envs/new/lib/python3.11/site-packages (from pandas>=0.23->pandas_datareader) (2023.3)\n",
      "Requirement already satisfied: numpy>=1.21.0 in /home/ronggolawe/anaconda3/envs/new/lib/python3.11/site-packages (from pandas>=0.23->pandas_datareader) (1.24.2)\n",
      "Collecting charset-normalizer<4,>=2\n",
      "  Downloading charset_normalizer-3.1.0-cp311-cp311-manylinux_2_17_x86_64.manylinux2014_x86_64.whl (197 kB)\n",
      "\u001b[2K     \u001b[90m━━━━━━━━━━━━━━━━━━━━━━━━━━━━━━━━━━━━━\u001b[0m \u001b[32m197.3/197.3 kB\u001b[0m \u001b[31m813.6 kB/s\u001b[0m eta \u001b[36m0:00:00\u001b[0ma \u001b[36m0:00:01\u001b[0m\n",
      "\u001b[?25hRequirement already satisfied: idna<4,>=2.5 in /home/ronggolawe/anaconda3/envs/new/lib/python3.11/site-packages (from requests>=2.19.0->pandas_datareader) (3.4)\n",
      "Requirement already satisfied: urllib3<3,>=1.21.1 in /home/ronggolawe/anaconda3/envs/new/lib/python3.11/site-packages (from requests>=2.19.0->pandas_datareader) (2.0.2)\n",
      "Requirement already satisfied: certifi>=2017.4.17 in /home/ronggolawe/anaconda3/envs/new/lib/python3.11/site-packages (from requests>=2.19.0->pandas_datareader) (2023.5.7)\n",
      "Requirement already satisfied: six>=1.5 in /home/ronggolawe/anaconda3/envs/new/lib/python3.11/site-packages (from python-dateutil>=2.8.2->pandas>=0.23->pandas_datareader) (1.16.0)\n",
      "Installing collected packages: lxml, charset-normalizer, requests, pandas_datareader\n",
      "Successfully installed charset-normalizer-3.1.0 lxml-4.9.2 pandas_datareader-0.10.0 requests-2.31.0\n"
     ]
    }
   ],
   "source": [
    "!pip install pandas_datareader"
   ]
  },
  {
   "cell_type": "code",
   "execution_count": 2,
   "id": "66da70bc",
   "metadata": {},
   "outputs": [],
   "source": [
    "from pandas_datareader import wb"
   ]
  },
  {
   "cell_type": "markdown",
   "id": "e9fa85ae",
   "metadata": {},
   "source": [
    "Go to: <url>https://databank.worldbank.org/source/world-development-indicators</url>"
   ]
  },
  {
   "cell_type": "code",
   "execution_count": 3,
   "id": "1eca6e2e",
   "metadata": {},
   "outputs": [],
   "source": [
    "code = \"EN.CO2.BLDG.ZS\""
   ]
  },
  {
   "cell_type": "markdown",
   "id": "9ac0a3c3",
   "metadata": {},
   "source": [
    "CO$_{2}$ emissions from residential buildings and from commercial and from public services (% of total fuel combustion)."
   ]
  },
  {
   "cell_type": "code",
   "execution_count": null,
   "id": "53807eb7",
   "metadata": {},
   "outputs": [],
   "source": []
  },
  {
   "cell_type": "markdown",
   "id": "bea00621",
   "metadata": {},
   "source": [
    "Countries: "
   ]
  },
  {
   "cell_type": "code",
   "execution_count": 4,
   "id": "2367100e",
   "metadata": {},
   "outputs": [],
   "source": [
    "regions = [\"BRA\", \"IND\", \"CHN\", \"ZAF\", \"USA\", \"GBR\", \"WLD\", \"EUU\"]"
   ]
  },
  {
   "cell_type": "markdown",
   "id": "4e588321",
   "metadata": {},
   "source": [
    "Another interesting indicator: \"EG.ELC.ACCS.ZS\" electricity access"
   ]
  },
  {
   "cell_type": "code",
   "execution_count": 6,
   "id": "76e7fd3d",
   "metadata": {},
   "outputs": [
    {
     "name": "stderr",
     "output_type": "stream",
     "text": [
      "/home/ronggolawe/anaconda3/envs/new/lib/python3.11/site-packages/pandas_datareader/wb.py:592: UserWarning: Non-standard ISO country codes: EUU, WLD\n",
      "  warnings.warn(\n"
     ]
    }
   ],
   "source": [
    "df_indicator = wb.download(\n",
    "    country=regions,\n",
    "    indicator=code,\n",
    "    start=1971,\n",
    "    end=2014\n",
    ")"
   ]
  },
  {
   "cell_type": "code",
   "execution_count": 7,
   "id": "968c8043",
   "metadata": {},
   "outputs": [
    {
     "data": {
      "text/html": [
       "<div>\n",
       "<style scoped>\n",
       "    .dataframe tbody tr th:only-of-type {\n",
       "        vertical-align: middle;\n",
       "    }\n",
       "\n",
       "    .dataframe tbody tr th {\n",
       "        vertical-align: top;\n",
       "    }\n",
       "\n",
       "    .dataframe thead th {\n",
       "        text-align: right;\n",
       "    }\n",
       "</style>\n",
       "<table border=\"1\" class=\"dataframe\">\n",
       "  <thead>\n",
       "    <tr style=\"text-align: right;\">\n",
       "      <th></th>\n",
       "      <th></th>\n",
       "      <th>EN.CO2.BLDG.ZS</th>\n",
       "    </tr>\n",
       "    <tr>\n",
       "      <th>country</th>\n",
       "      <th>year</th>\n",
       "      <th></th>\n",
       "    </tr>\n",
       "  </thead>\n",
       "  <tbody>\n",
       "    <tr>\n",
       "      <th rowspan=\"5\" valign=\"top\">Brazil</th>\n",
       "      <th>2014</th>\n",
       "      <td>4.289736</td>\n",
       "    </tr>\n",
       "    <tr>\n",
       "      <th>2013</th>\n",
       "      <td>4.508896</td>\n",
       "    </tr>\n",
       "    <tr>\n",
       "      <th>2012</th>\n",
       "      <td>4.746116</td>\n",
       "    </tr>\n",
       "    <tr>\n",
       "      <th>2011</th>\n",
       "      <td>5.159270</td>\n",
       "    </tr>\n",
       "    <tr>\n",
       "      <th>2010</th>\n",
       "      <td>5.346396</td>\n",
       "    </tr>\n",
       "    <tr>\n",
       "      <th>...</th>\n",
       "      <th>...</th>\n",
       "      <td>...</td>\n",
       "    </tr>\n",
       "    <tr>\n",
       "      <th rowspan=\"5\" valign=\"top\">South Africa</th>\n",
       "      <th>1975</th>\n",
       "      <td>6.572400</td>\n",
       "    </tr>\n",
       "    <tr>\n",
       "      <th>1974</th>\n",
       "      <td>6.815974</td>\n",
       "    </tr>\n",
       "    <tr>\n",
       "      <th>1973</th>\n",
       "      <td>6.949115</td>\n",
       "    </tr>\n",
       "    <tr>\n",
       "      <th>1972</th>\n",
       "      <td>7.742371</td>\n",
       "    </tr>\n",
       "    <tr>\n",
       "      <th>1971</th>\n",
       "      <td>7.925393</td>\n",
       "    </tr>\n",
       "  </tbody>\n",
       "</table>\n",
       "<p>352 rows × 1 columns</p>\n",
       "</div>"
      ],
      "text/plain": [
       "                   EN.CO2.BLDG.ZS\n",
       "country      year                \n",
       "Brazil       2014        4.289736\n",
       "             2013        4.508896\n",
       "             2012        4.746116\n",
       "             2011        5.159270\n",
       "             2010        5.346396\n",
       "...                           ...\n",
       "South Africa 1975        6.572400\n",
       "             1974        6.815974\n",
       "             1973        6.949115\n",
       "             1972        7.742371\n",
       "             1971        7.925393\n",
       "\n",
       "[352 rows x 1 columns]"
      ]
     },
     "execution_count": 7,
     "metadata": {},
     "output_type": "execute_result"
    }
   ],
   "source": [
    "df_indicator"
   ]
  },
  {
   "cell_type": "markdown",
   "id": "267a88d8",
   "metadata": {},
   "source": [
    "The data contains CO$_2$ emission from buildings (including residential, commercial, and public services). This is a time-series dataset, because each date has a value. Here every year has a single value."
   ]
  },
  {
   "cell_type": "code",
   "execution_count": null,
   "id": "09e99d61",
   "metadata": {},
   "outputs": [],
   "source": []
  }
 ],
 "metadata": {
  "kernelspec": {
   "display_name": "Python 3 (ipykernel)",
   "language": "python",
   "name": "python3"
  },
  "language_info": {
   "codemirror_mode": {
    "name": "ipython",
    "version": 3
   },
   "file_extension": ".py",
   "mimetype": "text/x-python",
   "name": "python",
   "nbconvert_exporter": "python",
   "pygments_lexer": "ipython3",
   "version": "3.11.3"
  }
 },
 "nbformat": 4,
 "nbformat_minor": 5
}
